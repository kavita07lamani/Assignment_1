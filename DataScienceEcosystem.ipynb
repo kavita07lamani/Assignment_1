{
 "cells": [
  {
   "cell_type": "markdown",
   "id": "892e6c97",
   "metadata": {},
   "source": [
    "# Data Science Tools and Ecosystem"
   ]
  },
  {
   "cell_type": "markdown",
   "id": "c0f4df9e",
   "metadata": {},
   "source": [
    "In this nootebook, Data Science Tools and Ecosysem are summarized."
   ]
  },
  {
   "cell_type": "markdown",
   "id": "ab55aade",
   "metadata": {},
   "source": [
    "Some of the popular languages that Data Scientists use are:\n",
    "|Orderd List|\n",
    "|-----------|\n",
    "| python    |\n",
    "| R         |\n",
    "| SQL       |\n",
    "| Java      |"
   ]
  },
  {
   "cell_type": "markdown",
   "id": "6d1505dc",
   "metadata": {},
   "source": [
    "Some of the commonly used libraries used by Data Scientists include:\n",
    "|Orderd List|\n",
    "|-----------|\n",
    "| Pandas    |\n",
    "| Numpy     |\n",
    "| Seaborn   |\n",
    "| Matplotlib|"
   ]
  },
  {
   "cell_type": "markdown",
   "id": "a5eb1faa",
   "metadata": {},
   "source": [
    "|Data Science Tools|\n",
    "|------------------|\n",
    "|Apache Spark      |\n",
    "|Hadoop            |\n",
    "|Julia             |\n",
    "|TenserFlow        |"
   ]
  },
  {
   "cell_type": "markdown",
   "id": "a76fcf48",
   "metadata": {},
   "source": [
    "### Below are a Few example of evaluating arithmetic expression in python."
   ]
  },
  {
   "cell_type": "code",
   "execution_count": 20,
   "id": "86b1ea2b",
   "metadata": {},
   "outputs": [
    {
     "data": {
      "text/plain": [
       "17"
      ]
     },
     "execution_count": 20,
     "metadata": {},
     "output_type": "execute_result"
    }
   ],
   "source": [
    "# This a simple arithmetic expression to mutiply then add integers.\n",
    "(3*4)+5\n"
   ]
  },
  {
   "cell_type": "code",
   "execution_count": 23,
   "id": "3e75b83f",
   "metadata": {},
   "outputs": [
    {
     "data": {
      "text/plain": [
       "3.3333333333333335"
      ]
     },
     "execution_count": 23,
     "metadata": {},
     "output_type": "execute_result"
    }
   ],
   "source": [
    "#This will convert 200 minuts to hours by dividing by 60\n",
    "200/60"
   ]
  },
  {
   "cell_type": "markdown",
   "id": "6507fcbc",
   "metadata": {},
   "source": [
    "# Objectives"
   ]
  },
  {
   "cell_type": "markdown",
   "id": "3220f01f",
   "metadata": {},
   "source": [
    "Some of the popular languages that Data Scientists use are:\n",
    "\n",
    "* Python\n",
    "* R\n",
    "* java\n",
    "* sql\n",
    "\n"
   ]
  },
  {
   "cell_type": "markdown",
   "id": "fb4f08ae",
   "metadata": {},
   "source": [
    "## Author\n",
    "Kavita lamani"
   ]
  }
 ],
 "metadata": {
  "kernelspec": {
   "display_name": "Python 3 (ipykernel)",
   "language": "python",
   "name": "python3"
  },
  "language_info": {
   "codemirror_mode": {
    "name": "ipython",
    "version": 3
   },
   "file_extension": ".py",
   "mimetype": "text/x-python",
   "name": "python",
   "nbconvert_exporter": "python",
   "pygments_lexer": "ipython3",
   "version": "3.11.5"
  }
 },
 "nbformat": 4,
 "nbformat_minor": 5
}
